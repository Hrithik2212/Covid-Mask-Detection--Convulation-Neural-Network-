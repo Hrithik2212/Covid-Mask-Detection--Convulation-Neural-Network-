{
 "cells": [
  {
   "cell_type": "code",
   "execution_count": 2,
   "metadata": {},
   "outputs": [],
   "source": [
    "import cv2 as cv \n",
    "from tensorflow.keras.models import Sequential\n",
    "from tensorflow.keras.layers import Conv2D,Flatten,Dropout,Dense,MaxPooling2D\n",
    "from tensorflow.keras.optimizers import Adam\n",
    "import numpy as np\n",
    "import matplotlib.pyplot as plt\n"
   ]
  },
  {
   "cell_type": "code",
   "execution_count": 14,
   "metadata": {},
   "outputs": [],
   "source": [
    "from tensorflow.keras.preprocessing.image import ImageDataGenerator"
   ]
  },
  {
   "cell_type": "code",
   "execution_count": 15,
   "metadata": {},
   "outputs": [],
   "source": [
    "import os\n",
    "main_dir = r\"C:\\Users\\HRITHIK REDDY\\Coincent Learn\\AI\\Mask detection\\New Masks Dataset\"\n",
    "train_dir=os.path.join(main_dir,\"Train\")\n",
    "test_dir=os.path.join(main_dir,\"Test\")\n",
    "val_dir=os.path.join(main_dir,\"Validation\")\n",
    "\n",
    "train_maskdir=os.path.join(train_dir,\"Mask\")\n",
    "train_nonmaskdir = os.path.join(train_dir,\"Non Mask\")\n"
   ]
  },
  {
   "cell_type": "code",
   "execution_count": 16,
   "metadata": {},
   "outputs": [],
   "source": [
    "train_masknames=os.listdir(train_maskdir)\n",
    "train_nonmasknames=os.listdir(train_nonmaskdir)"
   ]
  },
  {
   "cell_type": "code",
   "execution_count": 17,
   "metadata": {},
   "outputs": [
    {
     "name": "stdout",
     "output_type": "stream",
     "text": [
      "Found 600 images belonging to 2 classes.\n",
      "Found 100 images belonging to 2 classes.\n",
      "Found 306 images belonging to 2 classes.\n"
     ]
    }
   ],
   "source": [
    "Train_imddatagen=ImageDataGenerator(rescale=1.0/255,\n",
    "                                    zoom_range=0.2,\n",
    "                                    rotation_range=40,\n",
    "                                    horizontal_flip=True)\n",
    "Test_imddatagen=ImageDataGenerator(rescale=1.0/255)\n",
    "Val_imddatagen=ImageDataGenerator(rescale=1.0/255)\n",
    "\n",
    "Train_gen=Train_imddatagen.flow_from_directory(train_dir,\n",
    "                                                target_size=(150,150),\n",
    "                                                batch_size=32,\n",
    "                                                class_mode='binary',\n",
    "                                                )    \n",
    "\n",
    "Test_gen=Test_imddatagen.flow_from_directory(test_dir,\n",
    "                                                target_size=(150,150),\n",
    "                                                batch_size=32,\n",
    "                                                class_mode='binary') \n",
    "\n",
    "Valid_gen=Val_imddatagen.flow_from_directory(val_dir,\n",
    "                                                target_size=(150,150),\n",
    "                                                batch_size=32,\n",
    "                                                class_mode='binary')                                                                                                          "
   ]
  },
  {
   "cell_type": "code",
   "execution_count": 18,
   "metadata": {},
   "outputs": [
    {
     "data": {
      "text/plain": [
       "{'Mask': 0, 'Non Mask': 1}"
      ]
     },
     "execution_count": 18,
     "metadata": {},
     "output_type": "execute_result"
    }
   ],
   "source": [
    "Train_gen.class_indices"
   ]
  },
  {
   "cell_type": "code",
   "execution_count": 19,
   "metadata": {},
   "outputs": [
    {
     "data": {
      "text/plain": [
       "(150, 150, 3)"
      ]
     },
     "execution_count": 19,
     "metadata": {},
     "output_type": "execute_result"
    }
   ],
   "source": [
    "Train_gen.image_shape"
   ]
  },
  {
   "cell_type": "code",
   "execution_count": 20,
   "metadata": {},
   "outputs": [
    {
     "name": "stdout",
     "output_type": "stream",
     "text": [
      "Model: \"sequential_1\"\n",
      "_________________________________________________________________\n",
      " Layer (type)                Output Shape              Param #   \n",
      "=================================================================\n",
      " conv2d_2 (Conv2D)           (None, 150, 150, 32)      896       \n",
      "                                                                 \n",
      " max_pooling2d_2 (MaxPooling  (None, 75, 75, 32)       0         \n",
      " 2D)                                                             \n",
      "                                                                 \n",
      " dropout_3 (Dropout)         (None, 75, 75, 32)        0         \n",
      "                                                                 \n",
      " conv2d_3 (Conv2D)           (None, 75, 75, 64)        18496     \n",
      "                                                                 \n",
      " max_pooling2d_3 (MaxPooling  (None, 37, 37, 64)       0         \n",
      " 2D)                                                             \n",
      "                                                                 \n",
      " dropout_4 (Dropout)         (None, 37, 37, 64)        0         \n",
      "                                                                 \n",
      " flatten_1 (Flatten)         (None, 87616)             0         \n",
      "                                                                 \n",
      " dense_2 (Dense)             (None, 256)               22429952  \n",
      "                                                                 \n",
      " dropout_5 (Dropout)         (None, 256)               0         \n",
      "                                                                 \n",
      " dense_3 (Dense)             (None, 1)                 257       \n",
      "                                                                 \n",
      "=================================================================\n",
      "Total params: 22,449,601\n",
      "Trainable params: 22,449,601\n",
      "Non-trainable params: 0\n",
      "_________________________________________________________________\n"
     ]
    }
   ],
   "source": [
    "model= Sequential()\n",
    "model.add(Conv2D(32,(3,3),padding=\"SAME\",activation='relu',input_shape=(150,150,3)))\n",
    "model.add(MaxPooling2D(pool_size=(2,2)))\n",
    "model.add(Dropout(0.5))\n",
    "\n",
    "model.add(Conv2D(64,(3,3),padding='SAME',activation='relu'))\n",
    "model.add(MaxPooling2D(pool_size=(2,2)))\n",
    "model.add(Dropout(0.5))\n",
    "\n",
    "model.add(Flatten())\n",
    "\n",
    "model.add(Dense(256,activation='relu'))\n",
    "model.add(Dropout(0.5))\n",
    "model.add(Dense(1,activation='sigmoid'))\n",
    "model.summary()"
   ]
  },
  {
   "cell_type": "code",
   "execution_count": 21,
   "metadata": {},
   "outputs": [],
   "source": [
    "model.compile(Adam(learning_rate=0.001),loss='binary_crossentropy',metrics=['accuracy'])"
   ]
  },
  {
   "cell_type": "code",
   "execution_count": 22,
   "metadata": {},
   "outputs": [
    {
     "name": "stdout",
     "output_type": "stream",
     "text": [
      "Epoch 1/30\n",
      "19/19 [==============================] - 20s 1s/step - loss: 1.8826 - accuracy: 0.5617 - val_loss: 0.6932 - val_accuracy: 0.5000\n",
      "Epoch 2/30\n",
      "19/19 [==============================] - 18s 942ms/step - loss: 0.6376 - accuracy: 0.6200 - val_loss: 0.6705 - val_accuracy: 0.8170\n",
      "Epoch 3/30\n",
      "19/19 [==============================] - 18s 946ms/step - loss: 0.4612 - accuracy: 0.7983 - val_loss: 0.4701 - val_accuracy: 0.8922\n",
      "Epoch 4/30\n",
      "19/19 [==============================] - 18s 966ms/step - loss: 0.2854 - accuracy: 0.8967 - val_loss: 0.3476 - val_accuracy: 0.8987\n",
      "Epoch 5/30\n",
      "19/19 [==============================] - 18s 930ms/step - loss: 0.2852 - accuracy: 0.8983 - val_loss: 0.3648 - val_accuracy: 0.8987\n",
      "Epoch 6/30\n",
      "19/19 [==============================] - 18s 939ms/step - loss: 0.2899 - accuracy: 0.8983 - val_loss: 0.3578 - val_accuracy: 0.8987\n",
      "Epoch 7/30\n",
      "19/19 [==============================] - 18s 931ms/step - loss: 0.2459 - accuracy: 0.9033 - val_loss: 0.3003 - val_accuracy: 0.9052\n",
      "Epoch 8/30\n",
      "19/19 [==============================] - 18s 937ms/step - loss: 0.2202 - accuracy: 0.9200 - val_loss: 0.3098 - val_accuracy: 0.8856\n",
      "Epoch 9/30\n",
      "19/19 [==============================] - 22s 1s/step - loss: 0.2220 - accuracy: 0.9283 - val_loss: 0.3101 - val_accuracy: 0.8889\n",
      "Epoch 10/30\n",
      "19/19 [==============================] - 18s 946ms/step - loss: 0.2230 - accuracy: 0.9167 - val_loss: 0.3031 - val_accuracy: 0.8791\n",
      "Epoch 11/30\n",
      "19/19 [==============================] - 18s 951ms/step - loss: 0.2054 - accuracy: 0.9267 - val_loss: 0.2952 - val_accuracy: 0.9150\n",
      "Epoch 12/30\n",
      "19/19 [==============================] - 18s 945ms/step - loss: 0.2174 - accuracy: 0.9200 - val_loss: 0.2823 - val_accuracy: 0.9020\n",
      "Epoch 13/30\n",
      "19/19 [==============================] - 18s 960ms/step - loss: 0.2166 - accuracy: 0.9200 - val_loss: 0.2715 - val_accuracy: 0.9052\n",
      "Epoch 14/30\n",
      "19/19 [==============================] - 18s 973ms/step - loss: 0.1883 - accuracy: 0.9267 - val_loss: 0.2639 - val_accuracy: 0.9052\n",
      "Epoch 15/30\n",
      "19/19 [==============================] - 18s 943ms/step - loss: 0.2147 - accuracy: 0.9300 - val_loss: 0.2691 - val_accuracy: 0.8922\n",
      "Epoch 16/30\n",
      "19/19 [==============================] - 18s 942ms/step - loss: 0.2314 - accuracy: 0.9117 - val_loss: 0.2950 - val_accuracy: 0.9020\n",
      "Epoch 17/30\n",
      "19/19 [==============================] - 19s 1s/step - loss: 0.2251 - accuracy: 0.9150 - val_loss: 0.2653 - val_accuracy: 0.9052\n",
      "Epoch 18/30\n",
      "19/19 [==============================] - 17s 901ms/step - loss: 0.1936 - accuracy: 0.9267 - val_loss: 0.3051 - val_accuracy: 0.8660\n",
      "Epoch 19/30\n",
      "19/19 [==============================] - 17s 878ms/step - loss: 0.1750 - accuracy: 0.9317 - val_loss: 0.2530 - val_accuracy: 0.9052\n",
      "Epoch 20/30\n",
      "19/19 [==============================] - 17s 880ms/step - loss: 0.1774 - accuracy: 0.9350 - val_loss: 0.2492 - val_accuracy: 0.9052\n",
      "Epoch 21/30\n",
      "19/19 [==============================] - 17s 898ms/step - loss: 0.1779 - accuracy: 0.9367 - val_loss: 0.3025 - val_accuracy: 0.8399\n",
      "Epoch 22/30\n",
      "19/19 [==============================] - 17s 888ms/step - loss: 0.1831 - accuracy: 0.9300 - val_loss: 0.2753 - val_accuracy: 0.8856\n",
      "Epoch 23/30\n",
      "19/19 [==============================] - 19s 1s/step - loss: 0.1842 - accuracy: 0.9300 - val_loss: 0.2591 - val_accuracy: 0.8987\n",
      "Epoch 24/30\n",
      "19/19 [==============================] - 21s 1s/step - loss: 0.1862 - accuracy: 0.9217 - val_loss: 0.3117 - val_accuracy: 0.8431\n",
      "Epoch 25/30\n",
      "19/19 [==============================] - 18s 964ms/step - loss: 0.1691 - accuracy: 0.9333 - val_loss: 0.2396 - val_accuracy: 0.9150\n",
      "Epoch 26/30\n",
      "19/19 [==============================] - 19s 979ms/step - loss: 0.1719 - accuracy: 0.9367 - val_loss: 0.2454 - val_accuracy: 0.9150\n",
      "Epoch 27/30\n",
      "19/19 [==============================] - 18s 952ms/step - loss: 0.1527 - accuracy: 0.9467 - val_loss: 0.2443 - val_accuracy: 0.9281\n",
      "Epoch 28/30\n",
      "19/19 [==============================] - 18s 932ms/step - loss: 0.1703 - accuracy: 0.9317 - val_loss: 0.2396 - val_accuracy: 0.9216\n",
      "Epoch 29/30\n",
      "19/19 [==============================] - 18s 928ms/step - loss: 0.1527 - accuracy: 0.9417 - val_loss: 0.2743 - val_accuracy: 0.8758\n",
      "Epoch 30/30\n",
      "19/19 [==============================] - 18s 930ms/step - loss: 0.1676 - accuracy: 0.9333 - val_loss: 0.2437 - val_accuracy: 0.9281\n"
     ]
    }
   ],
   "source": [
    "history=model.fit(Train_gen,\n",
    "                epochs=30,\n",
    "                validation_data=Valid_gen)"
   ]
  },
  {
   "cell_type": "code",
   "execution_count": 23,
   "metadata": {},
   "outputs": [
    {
     "name": "stdout",
     "output_type": "stream",
     "text": [
      "4/4 [==============================] - 2s 323ms/step - loss: 0.1524 - accuracy: 0.9500\n",
      "Model Accuracies \n",
      " Test accuracy: 0.949999988079071 \n",
      " Test loss: 0.15244804322719574\n"
     ]
    }
   ],
   "source": [
    "test_loss,test_acc=model.evaluate(Test_gen)\n",
    "print(\"Model Accuracies \\n Test accuracy: {} \\n Test loss: {}\".format(test_acc,test_loss))\n"
   ]
  },
  {
   "cell_type": "code",
   "execution_count": 24,
   "metadata": {},
   "outputs": [],
   "source": [
    "model.save('mask_detection_model.h5')\n"
   ]
  }
 ],
 "metadata": {
  "interpreter": {
   "hash": "8040ec2ad0cff8d58f013f52648f683bec6c7eaf791b6d05a489d1a84c1a212f"
  },
  "kernelspec": {
   "display_name": "Python 3 (ipykernel)",
   "language": "python",
   "name": "python3"
  },
  "language_info": {
   "codemirror_mode": {
    "name": "ipython",
    "version": 3
   },
   "file_extension": ".py",
   "mimetype": "text/x-python",
   "name": "python",
   "nbconvert_exporter": "python",
   "pygments_lexer": "ipython3",
   "version": "3.9.6"
  }
 },
 "nbformat": 4,
 "nbformat_minor": 2
}
